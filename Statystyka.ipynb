{
 "cells": [
  {
   "cell_type": "code",
   "execution_count": null,
   "id": "0e517541-5cac-4ed4-8bf6-af16cde9b107",
   "metadata": {},
   "outputs": [],
   "source": [
    "8.8. Szacujemy wydatki na rozrywki przeciętnego klienta pewnego hotelu. Wiemy, że odchyle\u0002nie standardowe w populacji σ = 400 zł. Zakładając przybliżenie rozkładem normalnym, oblicz\n",
    "minimalną wymaganą liczebność próby, jeśli chcemy wyznaczyć oszacowanie z przybliżeniem nie\n",
    "większym niż 120 zł, przy poziomie ufności 95%.\n"
   ]
  },
  {
   "cell_type": "code",
   "execution_count": 2,
   "id": "376baa83-4c75-4766-96c2-e4cb98d02877",
   "metadata": {},
   "outputs": [
    {
     "name": "stdout",
     "output_type": "stream",
     "text": [
      "Minimalna wymagana liczebność próby; 43\n"
     ]
    }
   ],
   "source": [
    "import math\n",
    "\n",
    "sigma = 400 #odchylenie standardowe w zł\n",
    "E = 120 #maksymalny błąd oszacowanie w zł\n",
    "Z = 1.96 #z-score dla 95% poziomu ufności\n",
    "\n",
    "n = (Z * sigma/E) ** 2 #obliczenie minimalnej liczebności próby\n",
    "n = math.ceil(n) #zaokrąglenie do liczby całkowitej \n",
    "\n",
    "print(f\"Minimalna wymagana liczebność próby; {n}\")"
   ]
  },
  {
   "cell_type": "code",
   "execution_count": null,
   "id": "efc79c91-91d5-41ff-a0c6-e16a4ae7c4b1",
   "metadata": {},
   "outputs": [],
   "source": [
    "8.7. Losowa próba 30 opakowań pewnego produktu dała ocenę wariancji (pewnego parametru) s2 = 18540. Zakładając normalność rozkładu analizowanej cechy produktu, wyznacz 95%\n",
    "przedział ufności jego wariancji w populacji, σ2."
   ]
  },
  {
   "cell_type": "code",
   "execution_count": 10,
   "id": "c7705380-a7a8-4b34-8aa3-ee69727ae4e4",
   "metadata": {},
   "outputs": [
    {
     "name": "stdout",
     "output_type": "stream",
     "text": [
      "95% przedział ufności dla wariancji: (11759.25,33505.18)\n"
     ]
    }
   ],
   "source": [
    "import numpy as np\n",
    "import scipy.stats as stats\n",
    "\n",
    "n = 30 #liczba opakowań\n",
    "s_squared = 18540 #wariancja w próbie\n",
    "\n",
    "df = n-1 #stopień swobody\n",
    "\n",
    "chi2_lower = stats.chi2.ppf(0.975,df) #dolna granica (2,5%)\n",
    "chi2_upper = stats.chi2.ppf(0.025,df) #górna granica (97,5%)\n",
    "\n",
    "lower_bound = (df*s_squared)/chi2_upper # przedziały ufności dla wariancji\n",
    "upper_bound = (df*s_squared)/chi2_lower\n",
    "\n",
    "print(f\"95% przedział ufności dla wariancji: ({upper_bound:.2f},{lower_bound:.2f})\")"
   ]
  },
  {
   "cell_type": "code",
   "execution_count": null,
   "id": "44ac2e00-bc34-4337-a014-833132372842",
   "metadata": {},
   "outputs": [],
   "source": [
    "8.6. W losowo wybranej grupie 100 konsumentów 34 kupuje produkt A. Wyznacz 95% przedział\n",
    "ufności dla udziału rynkowego produktu A (zakładając przybliżenie rozkładem normalnym)."
   ]
  },
  {
   "cell_type": "code",
   "execution_count": 6,
   "id": "62ae4c33-aadf-40eb-badc-183715f32462",
   "metadata": {},
   "outputs": [
    {
     "name": "stdout",
     "output_type": "stream",
     "text": [
      "Udział rynkowy produktu A: 0.3400\n",
      "95% przedział ufności: (0.2472,0.4328)\n"
     ]
    }
   ],
   "source": [
    "import math \n",
    "\n",
    "n = 100 #liczba konsumentów\n",
    "x = 34 #liczba konsumentów, którzy kupują produkt A\n",
    "Z = 1.96 #z-score dla 95% poziomu ufności\n",
    "\n",
    "p = x/n #udział rynkowy\n",
    "\n",
    "sigma_p = math.sqrt((p*(1-p))/n) #odchylenie standardowe\n",
    "\n",
    "E = Z * sigma_p # błąd oszacowanie\n",
    "\n",
    "lower_bound = p - E\n",
    "upper_bound = p + E\n",
    "\n",
    "print(f\"Udział rynkowy produktu A: {p:.4f}\")\n",
    "print(f\"95% przedział ufności: ({lower_bound:.4f},{upper_bound:.4f})\")"
   ]
  },
  {
   "cell_type": "code",
   "execution_count": null,
   "id": "39ec1f32-c7aa-4dfd-91ca-86d0072b2c46",
   "metadata": {},
   "outputs": [],
   "source": [
    "8.9 Szacujemy frakcję osób, p, które będą zainteresowane kupnem wprowadzanego na rynek\n",
    "produktu. Chcemy ją ustalić z dokładnością 0.10, przy 99% poziomie ufności. Wiemy, że frakcja ta wynosi około 0.25. Zakładając przybliżenie rozkładem normalnym, wyznacz minimalną\n",
    "wymaganą liczebność próby w zamierzonym badaniu.\n"
   ]
  },
  {
   "cell_type": "code",
   "execution_count": 8,
   "id": "3cfc6956-c3a4-4d1d-968f-0d23b0b15ce3",
   "metadata": {},
   "outputs": [
    {
     "name": "stdout",
     "output_type": "stream",
     "text": [
      "Minimalna wymagana liczebność próby: 125 osób\n"
     ]
    }
   ],
   "source": [
    "import math\n",
    "\n",
    "p = 0.25 #frakcja\n",
    "E = 0.10 #błąd oszacowania\n",
    "Z = 2.576 #z-score dla 99% poziomu ufności\n",
    "\n",
    "n = (Z **2 * p*(1-p))/(E**2) #minimalna liczebność próby\n",
    "n = math.ceil(n) #zaokrąglenie do liczby całkowitej\n",
    "\n",
    "print(f\"Minimalna wymagana liczebność próby: {n} osób\")"
   ]
  }
 ],
 "metadata": {
  "kernelspec": {
   "display_name": "Python 3 (ipykernel)",
   "language": "python",
   "name": "python3"
  },
  "language_info": {
   "codemirror_mode": {
    "name": "ipython",
    "version": 3
   },
   "file_extension": ".py",
   "mimetype": "text/x-python",
   "name": "python",
   "nbconvert_exporter": "python",
   "pygments_lexer": "ipython3",
   "version": "3.12.7"
  }
 },
 "nbformat": 4,
 "nbformat_minor": 5
}
